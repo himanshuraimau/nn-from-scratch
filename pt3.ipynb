{
 "cells": [
  {
   "cell_type": "markdown",
   "metadata": {},
   "source": [
    "### Dense Layer Class"
   ]
  },
  {
   "cell_type": "code",
   "execution_count": 3,
   "metadata": {},
   "outputs": [],
   "source": [
    "import nnfs\n",
    "from nnfs.datasets import spiral_data\n",
    "import numpy as np\n",
    "nnfs.init()\n"
   ]
  },
  {
   "cell_type": "code",
   "execution_count": 5,
   "metadata": {},
   "outputs": [
    {
     "name": "stdout",
     "output_type": "stream",
     "text": [
      "[[ 0.00000000e+00  0.00000000e+00  0.00000000e+00]\n",
      " [-2.61496298e-05 -5.70940247e-05 -1.16960771e-04]\n",
      " [-7.69893813e-05 -4.75328154e-04 -2.12466970e-04]\n",
      " [-1.19454686e-04 -6.26299181e-04 -3.77396704e-04]\n",
      " [-1.59333722e-04 -8.86327529e-04 -4.81519091e-04]\n",
      " [-1.44521880e-04 -1.16747292e-03 -2.80698237e-04]\n",
      " [-2.32432416e-04 -1.09792443e-03 -7.86150631e-04]\n",
      " [-2.78763153e-04 -1.55423908e-03 -8.40916007e-04]\n",
      " [-3.01691325e-04 -1.92443607e-03 -8.06041353e-04]\n",
      " [-2.80801381e-04 -2.14678515e-03 -5.97577542e-04]]\n"
     ]
    }
   ],
   "source": [
    "class Layer_Dense:\n",
    "    def __init__(self,n_inputs,n_neurons):\n",
    "        self.weights = 0.01*np.random.randn(n_inputs,n_neurons) # rows = n_inputs, columns = n_neurons\n",
    "        self.biases = np.zeros((1,n_neurons))  # 1 row, n_neurons columns\n",
    "    def forward(self,inputs):\n",
    "        self.output = np.dot(inputs,self.weights)+self.biases \n",
    "    \n",
    "x,y = spiral_data(samples=100,classes=3)\n",
    "\n",
    "dense1 = Layer_Dense(2,3)\n",
    "\n",
    "dense1.forward(x)\n",
    "\n",
    "print(dense1.output[0:10])\n",
    "        "
   ]
  }
 ],
 "metadata": {
  "kernelspec": {
   "display_name": "nn",
   "language": "python",
   "name": "python3"
  },
  "language_info": {
   "codemirror_mode": {
    "name": "ipython",
    "version": 3
   },
   "file_extension": ".py",
   "mimetype": "text/x-python",
   "name": "python",
   "nbconvert_exporter": "python",
   "pygments_lexer": "ipython3",
   "version": "3.12.3"
  }
 },
 "nbformat": 4,
 "nbformat_minor": 2
}
