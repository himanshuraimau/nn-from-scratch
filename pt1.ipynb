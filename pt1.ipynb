{
 "cells": [
  {
   "cell_type": "markdown",
   "metadata": {},
   "source": [
    "### BUILDING NEURAL NETWORKS FROM SCRATCH PART 1: CODING NEURONS AND LAYERS\n"
   ]
  },
  {
   "cell_type": "markdown",
   "metadata": {},
   "source": [
    "##### NN WITH 3 INPUTS"
   ]
  },
  {
   "cell_type": "code",
   "execution_count": 7,
   "metadata": {},
   "outputs": [
    {
     "name": "stdout",
     "output_type": "stream",
     "text": [
      "2.2\n"
     ]
    }
   ],
   "source": [
    "inputs = [1,2,4]\n",
    "weights = [0.1,0.2,0.3]\n",
    "bias = 0.5\n",
    "output = bias\n",
    "\n",
    "for x,w in zip(inputs,weights):\n",
    "    output += x*w\n",
    "print(output)"
   ]
  },
  {
   "cell_type": "markdown",
   "metadata": {},
   "source": [
    "##### 4 Inputs"
   ]
  },
  {
   "cell_type": "code",
   "execution_count": 10,
   "metadata": {},
   "outputs": [
    {
     "name": "stdout",
     "output_type": "stream",
     "text": [
      "12.52\n"
     ]
    }
   ],
   "source": [
    "inputs = [1,2,4,2.4]\n",
    "weights = [0.1,0.2,0.3,4.3]\n",
    "bias = 0.5\n",
    "output = bias\n",
    "\n",
    "for x,w in zip(inputs,weights):\n",
    "    output += x*w\n",
    "print(output)"
   ]
  },
  {
   "cell_type": "markdown",
   "metadata": {},
   "source": [
    "#### Coding a nn layer"
   ]
  },
  {
   "cell_type": "code",
   "execution_count": 13,
   "metadata": {},
   "outputs": [
    {
     "name": "stdout",
     "output_type": "stream",
     "text": [
      "[7.612732595823704, 6.440933896304768, 5.468992006307515]\n"
     ]
    }
   ],
   "source": [
    "import random\n",
    "\n",
    "inputs = [1,3,2,3.5]\n",
    "weights = [[random.uniform(0.4, 0.9) for _ in range(len(inputs))] for _ in range(3)]\n",
    "biases = [random.uniform(0.4, 0.9) for _ in range(3)]\n",
    "\n",
    "outputs = []\n",
    "for weight, bias in zip(weights, biases):\n",
    "    output = bias\n",
    "    for x, w in zip(inputs, weight):\n",
    "        output += x * w\n",
    "    outputs.append(output)\n",
    "print(outputs)\n"
   ]
  }
 ],
 "metadata": {
  "kernelspec": {
   "display_name": "nn",
   "language": "python",
   "name": "python3"
  },
  "language_info": {
   "codemirror_mode": {
    "name": "ipython",
    "version": 3
   },
   "file_extension": ".py",
   "mimetype": "text/x-python",
   "name": "python",
   "nbconvert_exporter": "python",
   "pygments_lexer": "ipython3",
   "version": "3.12.3"
  }
 },
 "nbformat": 4,
 "nbformat_minor": 2
}
