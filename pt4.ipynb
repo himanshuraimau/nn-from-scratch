{
 "cells": [
  {
   "cell_type": "markdown",
   "metadata": {},
   "source": [
    "### Broadcasting and Sum rule in Python"
   ]
  },
  {
   "cell_type": "code",
   "execution_count": 12,
   "metadata": {},
   "outputs": [
    {
     "name": "stdout",
     "output_type": "stream",
     "text": [
      "45\n",
      "[12 15 18]\n",
      "(3,)\n",
      "[[12 15 18]]\n",
      "(1, 3)\n",
      "[ 6 15 24]\n",
      "(3,)\n",
      "[[ 6]\n",
      " [15]\n",
      " [24]]\n",
      "(1, 3)\n",
      "9\n",
      "[[7 8 9]]\n"
     ]
    }
   ],
   "source": [
    "import numpy as np\n",
    "A = [[1, 2, 3], [4, 5, 6], [7, 8,9]]\n",
    "print(np.sum(A))\n",
    "\n",
    "\n",
    "print(np.sum(A, axis = 0))\n",
    "print(np.sum(A, axis = 0).shape)\n",
    "\n",
    "\n",
    "print(np.sum(A, axis = 0,keepdims=True))\n",
    "print(np.sum(A, axis = 0,keepdims=True).shape)\n",
    "\n",
    "\n",
    "print(np.sum(A, axis = 1))\n",
    "print(np.sum(A, axis = 1).shape)\n",
    "\n",
    "\n",
    "print(np.sum(A, axis = 1,keepdims=True))\n",
    "print(np.sum(A, axis = 0,keepdims=True).shape)\n",
    "\n",
    "print(np.max(A))\n",
    "print(np.max(A,axis=0,keepdims=True))"
   ]
  },
  {
   "cell_type": "code",
   "execution_count": null,
   "metadata": {},
   "outputs": [],
   "source": []
  }
 ],
 "metadata": {
  "kernelspec": {
   "display_name": "nn",
   "language": "python",
   "name": "python3"
  },
  "language_info": {
   "codemirror_mode": {
    "name": "ipython",
    "version": 3
   },
   "file_extension": ".py",
   "mimetype": "text/x-python",
   "name": "python",
   "nbconvert_exporter": "python",
   "pygments_lexer": "ipython3",
   "version": "3.12.3"
  }
 },
 "nbformat": 4,
 "nbformat_minor": 2
}
